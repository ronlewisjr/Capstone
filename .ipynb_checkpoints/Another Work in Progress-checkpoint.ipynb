{
 "cells": [
  {
   "cell_type": "code",
   "execution_count": 3,
   "metadata": {},
   "outputs": [],
   "source": [
    "import pandas as pd\n",
    "import numpy as np\n",
    "\n",
    "from pandas import datetime\n",
    "#from pandas import Series\n",
    "from matplotlib import pyplot\n",
    "from pandas.tools.plotting import autocorrelation_plot\n",
    "\n",
    "\n",
    "import os\n",
    "import cx_Oracle\n",
    "\n",
    "from sklearn.model_selection import train_test_split\n",
    "from sklearn.model_selection import KFold\n",
    "\n",
    "from statsmodels.tsa.arima_model import ARIMA\n",
    "from sklearn.metrics import mean_squared_error\n",
    "from math import sqrt"
   ]
  },
  {
   "cell_type": "code",
   "execution_count": 2,
   "metadata": {
    "collapsed": true
   },
   "outputs": [],
   "source": [
    "def parser(x):\n",
    "\treturn datetime.strptime(x, '%m/%d/%Y')"
   ]
  },
  {
   "cell_type": "code",
   "execution_count": 4,
   "metadata": {
    "collapsed": true
   },
   "outputs": [],
   "source": [
    "df = pd.read_csv('data/item_history.csv',header=0, parse_dates=[5], index_col=[5] )\n",
    "df[\"REPLACEMENT_ITEM\"].fillna('N', inplace=True)\n",
    "df[\"QTY\"]= round(df[\"QTY\"]/df[\"QTY_PER_SELL_UOM\"],4)\n",
    "df = df.drop(['QTY_PER_SELL_UOM', 'E3_YEAR', 'E3_4WK_PERIOD'], axis=1)"
   ]
  },
  {
   "cell_type": "code",
   "execution_count": 7,
   "metadata": {},
   "outputs": [
    {
     "name": "stdout",
     "output_type": "stream",
     "text": [
      "(3, 1015241)\n",
      "Dataset 25, Validation 3\n",
      "(7, 1015241)\n",
      "Dataset 25, Validation 3\n",
      "(72, 1015241)\n",
      "Dataset 15, Validation 3\n",
      "(81, 1015241)\n",
      "Dataset 25, Validation 3\n",
      "(83, 1015241)\n",
      "Dataset 25, Validation 3\n"
     ]
    }
   ],
   "source": [
    "for k1, group in df.groupby([\"DIST_NO\",\"ITEM_NO\"]):\n",
    "    print (k1)\n",
    "    series = pd.DataFrame(group)\n",
    "    series = series.drop([\"ITEM_NO\",\"DIST_NO\",\"HITS\",\"REPLACEMENT_ITEM\"], axis=1)\n",
    "    split_point = len(series) - 3\n",
    "    dataset, validation = series[0:split_point], series[split_point:]\n",
    "    print('Dataset %d, Validation %d' % (len(dataset), len(validation)))\n",
    "    dataset.to_csv('data/dataset.csv')\n",
    "    validation.to_csv('data/validation.csv')"
   ]
  },
  {
   "cell_type": "code",
   "execution_count": null,
   "metadata": {
    "collapsed": true
   },
   "outputs": [],
   "source": []
  }
 ],
 "metadata": {
  "kernelspec": {
   "display_name": "Python 3",
   "language": "python",
   "name": "python3"
  },
  "language_info": {
   "codemirror_mode": {
    "name": "ipython",
    "version": 3
   },
   "file_extension": ".py",
   "mimetype": "text/x-python",
   "name": "python",
   "nbconvert_exporter": "python",
   "pygments_lexer": "ipython3",
   "version": "3.6.3"
  }
 },
 "nbformat": 4,
 "nbformat_minor": 2
}
